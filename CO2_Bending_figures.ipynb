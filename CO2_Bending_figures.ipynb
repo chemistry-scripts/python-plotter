{
 "cells": [
  {
   "cell_type": "code",
   "execution_count": null,
   "metadata": {},
   "outputs": [],
   "source": [
    "import csv\n",
    "from matplotlib import pyplot as plt\n",
    "\n",
    "BH_bond = []\n",
    "OCO_angle = []\n",
    "CO2_strain = []\n",
    "CO2_interaction = []\n",
    "CO2_energy = []\n",
    "\n",
    "with open('data/ASM-Data.txt', 'r') as data_file:\n",
    "    plots = csv.reader(data_file, delimiter='\\t')\n",
    "    next(plots)\n",
    "    next(plots)\n",
    "    for row in plots:\n",
    "        BH_bond.append(row[0])\n",
    "        OCO_angle.append(row[1])\n",
    "        CO2_strain.append(row[2])\n",
    "        CO2_interaction.append(row[3])\n",
    "        CO2_energy.append(row[4])\n",
    "        \n",
    "\n",
    "BH_bond = [float(i) for i in BH_bond if i]\n",
    "OCO_angle = [float(i) for i in OCO_angle if i]\n",
    "CO2_strain = [float(i) for i in CO2_strain if i]\n",
    "CO2_interaction = [float(i) for i in CO2_interaction if i]\n",
    "CO2_energy = [float(i) for i in CO2_energy if i]\n"
   ]
  },
  {
   "cell_type": "code",
   "execution_count": null,
   "outputs": [],
   "source": [
    "plt.gca().invert_xaxis()\n",
    "plt.plot(OCO_angle, CO2_strain)\n",
    "plt.plot(OCO_angle, CO2_interaction)\n",
    "plt.plot(OCO_angle, CO2_energy)\n",
    "\n",
    "plt.savefig(\"data/CO2.png\", dpi=300)"
   ],
   "metadata": {}
  },
  {
   "cell_type": "code",
   "execution_count": null,
   "outputs": [],
   "source": [],
   "metadata": {}
  }
 ],
 "metadata": {
  "language_info": {
   "name": "python",
   "pygments_lexer": "ipython3"
  }
 },
 "nbformat": 4,
 "nbformat_minor": 0
}
