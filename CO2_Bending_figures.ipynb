{
 "cells": [
  {
   "cell_type": "code",
   "execution_count": null,
   "metadata": {},
   "outputs": [],
   "source": [
    "import csv\n",
    "from matplotlib import pyplot as plt\n",
    "\n",
    "CO2_BH_bond = []\n",
    "CO2_OCO_angle = []\n",
    "CO2_strain = []\n",
    "CO2_interaction = []\n",
    "CO2_energy = []\n",
    "BH3_CO2_BH_bond = []\n",
    "BH3_CO2_OCO_angle = []\n",
    "BH3_CO2_strain = []\n",
    "BH3_CO2_interaction = []\n",
    "BH3_CO2_energy = []\n",
    "\n",
    "with open('data/ASM-Data.txt', 'r') as data_file:\n",
    "    plots = csv.reader(data_file, delimiter='\\t')\n",
    "    next(plots)\n",
    "    next(plots)\n",
    "    for row in plots:\n",
    "        CO2_BH_bond.append(row[0])\n",
    "        CO2_OCO_angle.append(row[1])\n",
    "        CO2_strain.append(row[2])\n",
    "        CO2_interaction.append(row[3])\n",
    "        CO2_energy.append(row[4])\n",
    "        BH3_CO2_BH_bond.append(row[10])\n",
    "        BH3_CO2_OCO_angle.append(row[11])\n",
    "        BH3_CO2_strain.append(row[12])\n",
    "        BH3_CO2_interaction.append(row[13])\n",
    "        BH3_CO2_energy.append(row[14])\n",
    "\n",
    "CO2_BH_bond = [float(i) for i in CO2_BH_bond if i]\n",
    "CO2_OCO_angle = [float(i) for i in CO2_OCO_angle if i]\n",
    "CO2_strain = [float(i) for i in CO2_strain if i]\n",
    "CO2_interaction = [float(i) for i in CO2_interaction if i]\n",
    "CO2_energy = [float(i) for i in CO2_energy if i]\n",
    "\n",
    "BH3_CO2_BH_bond = [float(i) for i in BH3_CO2_BH_bond if i]\n",
    "BH3_CO2_OCO_angle = [float(i) for i in BH3_CO2_OCO_angle if i]\n",
    "BH3_CO2_strain = [float(i) for i in BH3_CO2_strain if i]\n",
    "BH3_CO2_interaction = [float(i) for i in BH3_CO2_interaction if i]\n",
    "BH3_CO2_energy = [float(i) for i in BH3_CO2_energy if i]"
   ]
  },
  {
   "cell_type": "code",
   "execution_count": null,
   "outputs": [],
   "source": [
    "axis = plt.gca()\n",
    "axis.set(xlim=(120, 180), ylim =(-80, 80))\n",
    "axis.invert_xaxis()\n",
    "plt.xlabel(\"$O-C-O$ Angle (°)\")\n",
    "plt.ylabel(\"Energy ($kcal.mol^{-1}$)\")\n",
    "\n",
    "plt.plot(CO2_OCO_angle, CO2_strain, \"red\")\n",
    "plt.plot(CO2_OCO_angle, CO2_interaction, \"black\")\n",
    "plt.plot(CO2_OCO_angle, CO2_energy, \"blue\")\n",
    "plt.plot(148.6, 10.4, \"ok\")\n",
    "plt.savefig(\"data/CO2_OCOangle.png\", dpi=300)\n"
   ],
   "metadata": {}
  },
  {
   "cell_type": "code",
   "execution_count": null,
   "outputs": [],
   "source": [
    "plt.plot(BH3_CO2_BH_bond, BH3_CO2_strain)\n",
    "plt.plot(BH3_CO2_BH_bond, BH3_CO2_interaction)\n",
    "plt.plot(BH3_CO2_BH_bond, BH3_CO2_energy)\n",
    "\n",
    "plt.savefig(\"data/BH3_CO2_OCOangle.png\", dpi=300)"
   ],
   "metadata": {}
  }
 ],
 "metadata": {
  "language_info": {
   "name": "python",
   "pygments_lexer": "ipython3"
  }
 },
 "nbformat": 4,
 "nbformat_minor": 0
}
