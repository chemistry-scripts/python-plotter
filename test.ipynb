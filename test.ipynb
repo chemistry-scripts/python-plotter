{
 "cells": [
  {
   "cell_type": "markdown",
   "metadata": {},
   "source": [
    "# matplotlib-label-lines example\n",
    "\n",
    "From https://github.com/cphyc/matplotlib-label-lines."
   ]
  },
  {
   "cell_type": "code",
   "execution_count": null,
   "metadata": {},
   "outputs": [],
   "source": [
    "import numpy as np\n",
    "from matplotlib import pyplot as plt\n",
    "\n",
    "from labellines import labelLines\n"
   ]
  },
  {
   "cell_type": "code",
   "execution_count": null,
   "metadata": {},
   "outputs": [],
   "source": [
    "X = np.linspace(0, 1, 500)\n",
    "A = [1, 2, 5, 10, 20, 50]\n",
    "for a in A:\n",
    "    plt.plot(X, np.sin(a*X), label=str(a))\n",
    "\n",
    "labelLines(plt.gca().get_lines(), align=False, fontsize=14)\n"
   ]
  },
  {
   "cell_type": "markdown",
   "metadata": {},
   "source": [
    "# prop_cycle property markevery in rcParams\n",
    "Renders a plot with shifted-sine curves along each column with\n",
    "a unique markevery value for each sine curve.\n"
   ]
  },
  {
   "cell_type": "code",
   "execution_count": null,
   "metadata": {},
   "outputs": [],
   "source": [
    "from cycler import cycler\n",
    "import numpy as np\n",
    "import matplotlib as mpl\n",
    "import matplotlib.pyplot as plt\n",
    "\n",
    "# Define a list of markevery cases and color cases to plot\n",
    "cases = [None,         \n",
    "         8,\n",
    "         (30, 8),\n",
    "         [16, 24, 30],\n",
    "         [0, -1],\n",
    "         slice(100, 200, 3),\n",
    "         0.1,\n",
    "         0.3,\n",
    "         1.5,\n",
    "         (0.0, 0.1),\n",
    "         (0.45, 0.1)]\n",
    "\n",
    "colors = ['#1f77b4',\n",
    "          '#ff7f0e',\n",
    "          '#2ca02c',\n",
    "          '#d62728',\n",
    "          '#9467bd',\n",
    "          '#8c564b',\n",
    "          '#e377c2',\n",
    "          '#7f7f7f',\n",
    "          '#bcbd22',\n",
    "          '#17becf',\n",
    "          '#1a55FF']\n",
    "\n",
    "# Configure rcParams axes.prop_cycle to simultaneously cycle cases and colors.\n",
    "mpl.rcParams['axes.prop_cycle'] = cycler(markevery=cases, color=colors)\n",
    "\n",
    "# Create data points and offsets\n",
    "x = np.linspace(0, 2 * np.pi)\n",
    "offsets = np.linspace(0, 2 * np.pi, 11, endpoint=False)\n",
    "yy = np.transpose([np.sin(x + phi) for phi in offsets])\n",
    "\n",
    "# Set the plot curve with markers and a title\n",
    "fig = plt.figure()\n",
    "ax = fig.add_axes([0.1, 0.1, 0.6, 0.75])\n",
    "\n",
    "for i in range(len(cases)):\n",
    "    ax.plot(yy[:, i], marker='o', label=str(cases[i]))\n",
    "    ax.legend(bbox_to_anchor=(1.05, 1), loc='upper left', borderaxespad=0.)\n",
    "\n",
    "plt.title('Support for axes.prop_cycle cycler with markevery')\n",
    "\n",
    "plt.show()\n",
    "\n"
   ]
  }
 ],
 "metadata": {
  "language_info": {
   "name": "python",
   "pygments_lexer": "ipython3"
  }
 },
 "nbformat": 4,
 "nbformat_minor": 1
}
